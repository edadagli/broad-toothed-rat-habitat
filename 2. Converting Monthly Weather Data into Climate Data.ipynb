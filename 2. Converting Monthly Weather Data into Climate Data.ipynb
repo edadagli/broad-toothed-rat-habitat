{
 "cells": [
  {
   "cell_type": "markdown",
   "id": "55fc70f8",
   "metadata": {},
   "source": [
    "# Converting Monthly Weather Data into Climate Data"
   ]
  },
  {
   "cell_type": "markdown",
   "id": "e0bee129",
   "metadata": {},
   "source": [
    "The monthly weather data from [WorldClim](https://www.worldclim.org/data/index.html) is divided into ten-year periods. As we are assessing the data from 2000 to 2021, we will need to convert the weather data into climate data by determining the averages for our variables for this period.\n",
    "\n",
    "The data can be downloaded from WorldClim [here](https://www.worldclim.org/data/monthlywth.html) and is available at 2.5-, 5- and 10-minute resolution. For this project, the data was downloaded at 2.5m resolution as this is the highest resolution available for the monthly weather data."
   ]
  },
  {
   "cell_type": "code",
   "execution_count": 2,
   "id": "1839d4d9",
   "metadata": {},
   "outputs": [],
   "source": [
    "import os\n",
    "import xarray as xr\n",
    "import rioxarray as rio\n",
    "import pathlib\n",
    "\n",
    "import warnings\n",
    "warnings.filterwarnings('ignore')"
   ]
  },
  {
   "cell_type": "markdown",
   "id": "e171cae2",
   "metadata": {},
   "source": [
    "After downloading the monthly weather data files for minimum temperature, maximum temperature and precipitation from 2000 to 2021, we locate the relevant variable files for each month."
   ]
  },
  {
   "cell_type": "code",
   "execution_count": 4,
   "id": "2bb9fa7a",
   "metadata": {},
   "outputs": [],
   "source": [
    "# Set directory where files have been downloaded and extracted\n",
    "pathloc = pathlib.Path(r\"C:\\Users\\edada\\Desktop\")\n",
    "\n",
    "# List all minimum temperature (tmin) files from 2000-2021 for each month \n",
    "tmin1 = [f for f in pathloc.glob(\"**/*tmin*-01.tif\")] # January\n",
    "tmin2 = [f for f in pathloc.glob(\"**/*tmin*-02.tif\")] # February\n",
    "tmin3 = [f for f in pathloc.glob(\"**/*tmin*-03.tif\")] # March\n",
    "tmin4 = [f for f in pathloc.glob(\"**/*tmin*-04.tif\")] # April\n",
    "tmin5 = [f for f in pathloc.glob(\"**/*tmin*-05.tif\")] # May\n",
    "tmin6 = [f for f in pathloc.glob(\"**/*tmin*-06.tif\")] # June\n",
    "tmin7 = [f for f in pathloc.glob(\"**/*tmin*-07.tif\")] # July\n",
    "tmin8 = [f for f in pathloc.glob(\"**/*tmin*-08.tif\")] # August\n",
    "tmin9 = [f for f in pathloc.glob(\"**/*tmin*-09.tif\")] # September\n",
    "tmin10 = [f for f in pathloc.glob(\"**/*tmin*-10.tif\")] # October\n",
    "tmin11 = [f for f in pathloc.glob(\"**/*tmin*-11.tif\")] # November\n",
    "tmin12 = [f for f in pathloc.glob(\"**/*tmin*-12.tif\")] # December"
   ]
  },
  {
   "cell_type": "code",
   "execution_count": 6,
   "id": "266862b3",
   "metadata": {},
   "outputs": [],
   "source": [
    "# maximum temperature (tmax)\n",
    "tmax1 = [f for f in pathloc.glob(\"**/*tmax*-01.tif\")] # January\n",
    "tmax2 = [f for f in pathloc.glob(\"**/*tmax*-02.tif\")] # February\n",
    "tmax3 = [f for f in pathloc.glob(\"**/*tmax*-03.tif\")] # March\n",
    "tmax4 = [f for f in pathloc.glob(\"**/*tmax*-04.tif\")] # April\n",
    "tmax5 = [f for f in pathloc.glob(\"**/*tmax*-05.tif\")] # May\n",
    "tmax6 = [f for f in pathloc.glob(\"**/*tmax*-06.tif\")] # June\n",
    "tmax7 = [f for f in pathloc.glob(\"**/*tmax*-07.tif\")] # July\n",
    "tmax8 = [f for f in pathloc.glob(\"**/*tmax*-08.tif\")] # August\n",
    "tmax9 = [f for f in pathloc.glob(\"**/*tmax*-09.tif\")] # September\n",
    "tmax10 = [f for f in pathloc.glob(\"**/*tmax*-10.tif\")] # October\n",
    "tmax11 = [f for f in pathloc.glob(\"**/*tmax*-11.tif\")] # November\n",
    "tmax12 = [f for f in pathloc.glob(\"**/*tmax*-12.tif\")] # December"
   ]
  },
  {
   "cell_type": "code",
   "execution_count": 7,
   "id": "507f69b5",
   "metadata": {},
   "outputs": [],
   "source": [
    "# precipitation (prec)\n",
    "prec1 = [f for f in pathloc.glob(\"**/*prec*-01.tif\")] # January\n",
    "prec2 = [f for f in pathloc.glob(\"**/*prec*-02.tif\")] # February\n",
    "prec3 = [f for f in pathloc.glob(\"**/*prec*-03.tif\")] # March\n",
    "prec4 = [f for f in pathloc.glob(\"**/*prec*-04.tif\")] # April\n",
    "prec5 = [f for f in pathloc.glob(\"**/*prec*-05.tif\")] # May\n",
    "prec6 = [f for f in pathloc.glob(\"**/*prec*-06.tif\")] # June\n",
    "prec7 = [f for f in pathloc.glob(\"**/*prec*-07.tif\")] # July\n",
    "prec8 = [f for f in pathloc.glob(\"**/*prec*-08.tif\")] # August\n",
    "prec9 = [f for f in pathloc.glob(\"**/*prec*-09.tif\")] # September\n",
    "prec10 = [f for f in pathloc.glob(\"**/*prec*-10.tif\")] # October\n",
    "prec11 = [f for f in pathloc.glob(\"**/*prec*-11.tif\")] # November\n",
    "prec12 = [f for f in pathloc.glob(\"**/*prec*-12.tif\")] # December"
   ]
  },
  {
   "cell_type": "markdown",
   "id": "41c6fb9f",
   "metadata": {},
   "source": [
    "We define a function to open the specified variable files for the relevant month from 2000 to 2021, crop them to the region of interest, combine them and calculate the mean:"
   ]
  },
  {
   "cell_type": "code",
   "execution_count": 84,
   "id": "470f307e",
   "metadata": {},
   "outputs": [],
   "source": [
    "def cropTest(filevarmonth):\n",
    "    min_lon = 140\n",
    "    min_lat = -44\n",
    "    max_lon = 154\n",
    "    max_lat = -28\n",
    "\n",
    "    varValsTest =[]\n",
    "\n",
    "    for file in filevarmonth:\n",
    "        files = rio.open_rasterio(file,masked=True,band_as_variable=True).squeeze().rio.clip_box(minx=min_lon,\n",
    "                                                                                                 miny=min_lat,\n",
    "                                                                                                 maxx=max_lon,\n",
    "                                                                                                 maxy=max_lat)\n",
    "        varValsTest.append(files)\n",
    "\n",
    "        combined = xr.concat(varValsTest, dim='example')\n",
    "    return combined.mean('example')"
   ]
  },
  {
   "cell_type": "markdown",
   "id": "cd16f84e",
   "metadata": {},
   "source": [
    "Calling the function for each variable and month:"
   ]
  },
  {
   "cell_type": "code",
   "execution_count": 87,
   "id": "4fb9f752",
   "metadata": {},
   "outputs": [],
   "source": [
    "# Precipitation\n",
    "precjan = cropTest(prec1)\n",
    "precfeb = cropTest(prec2)\n",
    "precmar = cropTest(prec3)\n",
    "precapr = cropTest(prec4)\n",
    "precmay = cropTest(prec5)\n",
    "precjun = cropTest(prec6)\n",
    "precjul = cropTest(prec7)\n",
    "precaug = cropTest(prec8)\n",
    "precsep = cropTest(prec9)\n",
    "precoct = cropTest(prec10)\n",
    "precnov = cropTest(prec11)\n",
    "precdec = cropTest(prec12)"
   ]
  },
  {
   "cell_type": "code",
   "execution_count": 88,
   "id": "ce3c8fd2",
   "metadata": {},
   "outputs": [],
   "source": [
    "# Minimum temperature\n",
    "tminjan = cropTest(tmin1)\n",
    "tminfeb = cropTest(tmin2)\n",
    "tminmar = cropTest(tmin3)\n",
    "tminapr = cropTest(tmin4)\n",
    "tminmay = cropTest(tmin5)\n",
    "tminjun = cropTest(tmin6)\n",
    "tminjul = cropTest(tmin7)\n",
    "tminaug = cropTest(tmin8)\n",
    "tminsep = cropTest(tmin9)\n",
    "tminoct = cropTest(tmin10)\n",
    "tminnov = cropTest(tmin11)\n",
    "tmindec = cropTest(tmin12)"
   ]
  },
  {
   "cell_type": "code",
   "execution_count": 89,
   "id": "9475748a",
   "metadata": {},
   "outputs": [],
   "source": [
    "# Maximum temperature\n",
    "tmaxjan = cropTest(tmax1)\n",
    "tmaxfeb = cropTest(tmax2)\n",
    "tmaxmar = cropTest(tmax3)\n",
    "tmaxapr = cropTest(tmax4)\n",
    "tmaxmay = cropTest(tmax5)\n",
    "tmaxjun = cropTest(tmax6)\n",
    "tmaxjul = cropTest(tmax7)\n",
    "tmaxaug = cropTest(tmax8)\n",
    "tmaxsep = cropTest(tmax9)\n",
    "tmaxoct = cropTest(tmax10)\n",
    "tmaxnov = cropTest(tmax11)\n",
    "tmaxdec = cropTest(tmax12)"
   ]
  },
  {
   "cell_type": "markdown",
   "id": "8cd3d5f9",
   "metadata": {},
   "source": [
    "We then save each variable month data array as a GeoTIFF file."
   ]
  },
  {
   "cell_type": "code",
   "execution_count": 116,
   "id": "42d01c7e",
   "metadata": {},
   "outputs": [],
   "source": [
    "# Create a folder for minimum temperature files from January to December with mean values from 2000-2021\n",
    "newpath = r'C:\\Users\\edada\\Documents\\tmin_tifs' \n",
    "if not os.path.exists(newpath):\n",
    "    os.makedirs(newpath)\n",
    "\n",
    "tminjan.rio.to_raster(\"tmin_tifs/tmin_01.tif\")\n",
    "tminfeb.rio.to_raster(\"tmin_tifs/tmin_02.tif\")\n",
    "tminmar.rio.to_raster(\"tmin_tifs/tmin_03.tif\")\n",
    "tminapr.rio.to_raster(\"tmin_tifs/tmin_04.tif\")\n",
    "tminmay.rio.to_raster(\"tmin_tifs/tmin_05.tif\")\n",
    "tminjun.rio.to_raster(\"tmin_tifs/tmin_06.tif\")\n",
    "tminjul.rio.to_raster(\"tmin_tifs/tmin_07.tif\")\n",
    "tminaug.rio.to_raster(\"tmin_tifs/tmin_08.tif\")\n",
    "tminsep.rio.to_raster(\"tmin_tifs/tmin_09.tif\")\n",
    "tminoct.rio.to_raster(\"tmin_tifs/tmin_10.tif\")\n",
    "tminnov.rio.to_raster(\"tmin_tifs/tmin_11.tif\")\n",
    "tmindec.rio.to_raster(\"tmin_tifs/tmin_12.tif\")"
   ]
  },
  {
   "cell_type": "code",
   "execution_count": 117,
   "id": "bfc168f2",
   "metadata": {},
   "outputs": [],
   "source": [
    "# Create a folder for maximum temperature files from January to December with mean values from 2000-2021\n",
    "newpath = r'C:\\Users\\edada\\Documents\\tmax_tifs' \n",
    "if not os.path.exists(newpath):\n",
    "    os.makedirs(newpath)\n",
    "\n",
    "tmaxjan.rio.to_raster(\"tmax_tifs/tmax_01.tif\")\n",
    "tmaxfeb.rio.to_raster(\"tmax_tifs/tmax_02.tif\")\n",
    "tmaxmar.rio.to_raster(\"tmax_tifs/tmax_03.tif\")\n",
    "tmaxapr.rio.to_raster(\"tmax_tifs/tmax_04.tif\")\n",
    "tmaxmay.rio.to_raster(\"tmax_tifs/tmax_05.tif\")\n",
    "tmaxjun.rio.to_raster(\"tmax_tifs/tmax_06.tif\")\n",
    "tmaxjul.rio.to_raster(\"tmax_tifs/tmax_07.tif\")\n",
    "tmaxaug.rio.to_raster(\"tmax_tifs/tmax_08.tif\")\n",
    "tmaxsep.rio.to_raster(\"tmax_tifs/tmax_09.tif\")\n",
    "tmaxoct.rio.to_raster(\"tmax_tifs/tmax_10.tif\")\n",
    "tmaxnov.rio.to_raster(\"tmax_tifs/tmax_11.tif\")\n",
    "tmaxdec.rio.to_raster(\"tmax_tifs/tmax_12.tif\")"
   ]
  },
  {
   "cell_type": "code",
   "execution_count": 118,
   "id": "c34167bf",
   "metadata": {},
   "outputs": [],
   "source": [
    "# Create a folder for precipitation files from January to December with mean values from 2000-2021\n",
    "newpath = r'C:\\Users\\edada\\Documents\\prec_tifs' \n",
    "if not os.path.exists(newpath):\n",
    "    os.makedirs(newpath)\n",
    "\n",
    "precjan.rio.to_raster(\"prec_tifs/prec_01.tif\")\n",
    "precfeb.rio.to_raster(\"prec_tifs/prec_02.tif\")\n",
    "precmar.rio.to_raster(\"prec_tifs/prec_03.tif\")\n",
    "precapr.rio.to_raster(\"prec_tifs/prec_04.tif\")\n",
    "precmay.rio.to_raster(\"prec_tifs/prec_05.tif\")\n",
    "precjun.rio.to_raster(\"prec_tifs/prec_06.tif\")\n",
    "precjul.rio.to_raster(\"prec_tifs/prec_07.tif\")\n",
    "precaug.rio.to_raster(\"prec_tifs/prec_08.tif\")\n",
    "precsep.rio.to_raster(\"prec_tifs/prec_09.tif\")\n",
    "precoct.rio.to_raster(\"prec_tifs/prec_10.tif\")\n",
    "precnov.rio.to_raster(\"prec_tifs/prec_11.tif\")\n",
    "precdec.rio.to_raster(\"prec_tifs/prec_12.tif\")"
   ]
  }
 ],
 "metadata": {
  "kernelspec": {
   "display_name": "Python 3 (ipykernel)",
   "language": "python",
   "name": "python3"
  },
  "language_info": {
   "codemirror_mode": {
    "name": "ipython",
    "version": 3
   },
   "file_extension": ".py",
   "mimetype": "text/x-python",
   "name": "python",
   "nbconvert_exporter": "python",
   "pygments_lexer": "ipython3",
   "version": "3.9.16"
  }
 },
 "nbformat": 4,
 "nbformat_minor": 5
}
